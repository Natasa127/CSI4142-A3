{
 "cells": [
  {
   "cell_type": "markdown",
   "id": "f047b185-2ea4-459b-bfd8-2e7d72908b77",
   "metadata": {},
   "source": [
    "# Assignment 3: Predictive analysis - Part 2: Classification\n",
    "## Group 105\n",
    "- Natasa Bolic (300241734)\n",
    "- Brent Palmer (300193610)\n",
    "## Imports"
   ]
  },
  {
   "cell_type": "code",
   "execution_count": 1,
   "id": "04e04694-dad3-47ba-9b89-ac3651685853",
   "metadata": {},
   "outputs": [],
   "source": [
    "# imports\n",
    "import pandas as pd\n",
    "import re"
   ]
  },
  {
   "cell_type": "markdown",
   "id": "9e20add1-39a5-403a-8a8d-44f8e9d3e89e",
   "metadata": {},
   "source": [
    "## Introduction"
   ]
  },
  {
   "cell_type": "markdown",
   "id": "766e7819-f3b8-4a73-a131-b34bc4fecc9c",
   "metadata": {},
   "source": [
    "## Dataset Description"
   ]
  },
  {
   "cell_type": "markdown",
   "id": "06297945-3380-4ac8-8556-7951b556c887",
   "metadata": {},
   "source": [
    "**Url:** https://www.kaggle.com/datasets/blastchar/telco-customer-churn <br>\n",
    "**Name:** Telco Customer Churn <br>\n",
    "**Author:** The dataset was uploaded to `Kaggle` by a user called `BlastChar`, however `IBM` created the original dataset. <br>\n",
    "**Purpose:** The `Telco Customer Churn` dataset is a synthetic dataset created by `IBM`. The dataset includes data on 7043 customers of the\n",
    "fictitious telecommunications company `Telco`. For each customer, data is provided regarding their demographics, their account information, \n",
    "and the services they have signed up for. The purpose of the dataset is to use the provided customer data to predict customer churn. A column is provided, \n",
    "titled `Churn`, that indicates whether or not the customer left within the last month. Since the churn data is provided, we can easily compare\n",
    "our classification results against the true values. <br>\n",
    "**Shape:** There are 7043 rows and 21 columns. (7043, 21)<br>\n",
    "**Features:** \n",
    "- `customerID` (categorical): A unique ID provided to each customer in the form `1234-ABCDE`.\n",
    "- `gender` (categorical): The gender of the customer (includes `Male` and `Female`).\n",
    "- `SeniorCitizen` (categorical): Indicates if the customer is a senior.\n",
    "    - `0`: The customer is not a senior.\n",
    "    - `1`: The customer is a senior.\n",
    "- `Partner` (categorical): Indicates if the customer has a partner.\n",
    "    - `Yes`: The customer has a partner.\n",
    "    - `No`: The customer does not have a partner. \n",
    "- `Dependents` (categorical): Indicates if the customer has dependents.\n",
    "    - `Yes`: The customer has dependents.\n",
    "    - `No`: The customer does not have dependents. \n",
    "- `tenure` (numerical): The number of months the customer has been with the company [0,72].\n",
    "- `PhoneService` (categorical): Indicates if the customer has a phone service.\n",
    "    - `Yes`: The customer has a phone service.\n",
    "    - `No`: The customer does not have a phone service.\n",
    "- `MultipleLines` (categorical): Indicates if the customer has multiple lines.\n",
    "    - `Yes`: The customer has multiple lines.\n",
    "    - `No`: The customer has one line.\n",
    "    - `No phone service`: The customer does not have phone service.\n",
    "- `InternetService` (categorical): The customer's internet connection method.\n",
    "    - `Fiber optic`: The customer's internet connection uses fiber optic technology.\n",
    "    - `DSL`: The customer's internet connection uses digital subscriber line (DSL) technology.\n",
    "    - `No`: The customer does not have internet.\n",
    "- `OnlineSecurity` (categorical): Indicates if the customer has online security.\n",
    "    - `Yes`: The customer has online security.\n",
    "    - `No`: The customer does not have online security.\n",
    "    - `No internet service`: The customer does not have internet service.\n",
    "- `OnlineBackup` (categorical): Indicates if the customer has online backup.\n",
    "    - `Yes`: The customer has online backup.\n",
    "    - `No`: The customer does not have online backup.\n",
    "    - `No internet service`: The customer does not have internet service. \n",
    "- `DeviceProtection` (categorical): Indicates if the customer has device protection.\n",
    "    - `Yes`: The customer has device protection.\n",
    "    - `No`: The customer does not have device protection.\n",
    "    - `No internet service`: The customer does not have internet service. \n",
    "- `TechSupport` (categorical): Indicates if the customer has tech support.\n",
    "    - `Yes`: The customer has tech support.\n",
    "    - `No`: The customer does not have tech support.\n",
    "    - `No internet service`: The customer does not have internet service.\n",
    "- `StreamingTV` (categorical): Indicates if the customer has streaming TV.\n",
    "    - `Yes`: The customer has streaming TV.\n",
    "    - `No`: The customer does not have streaming TV.\n",
    "    - `No internet service`: The customer does not have internet service.\n",
    "- `StreamingMovies` (categorical): Indicates if the customer has streaming movies.\n",
    "    - `Yes`: The customer has streaming movies.\n",
    "    - `No`: The customer does not have streaming movies.\n",
    "    - `No internet service`: The customer does not have internet service.\n",
    "- `Contract` (categorical): The contract term of the customer.\n",
    "    - `Month-to-month`: The customer pays month-to-month.\n",
    "    - `One year`: The customer has a one-year contract.\n",
    "    - `Two year`: The customer has a two-year contract. \n",
    "- `PaperlessBilling` (categorical): Indicates if the customer has paperless billing.\n",
    "    - `Yes`: The customer has paperless billing.\n",
    "    - `No`: The customer does not have paperless billing.\n",
    "- `PaymentMethod` (categorical): The customer's payment method.\n",
    "    - `Electronic check`: The customer pays by electronic check.\n",
    "    - `Mailed check`: The customer pays by mailed check.\n",
    "    - `Bank transfer (automatic)`: The customer pays automatically by bank transfer.\n",
    "    - `Credit card (automatic)`: The customer pays automatically by credit card.\n",
    "- `MonthlyCharges` (numerical): The amount charged to the customer each month [18.25, 118.75]. \n",
    "- `TotalCharges` (numerical): The total amount charged to the customer [0.0, 999.9].\n",
    "- `Churn` (categorical): Indicates if the customer churned, which means if the customer cancelled their service this month.\n",
    "    - `Yes`: The customer churned.\n",
    "    - `No`: The customer did not churn. "
   ]
  },
  {
   "cell_type": "markdown",
   "id": "e5c49324-e71d-42fb-8b5c-c8b1c9f465cd",
   "metadata": {},
   "source": [
    "## Loading Data and Basic Exploration"
   ]
  },
  {
   "cell_type": "code",
   "execution_count": 2,
   "id": "bdf2c256-766c-4972-9afc-e904fa36a76c",
   "metadata": {},
   "outputs": [
    {
     "data": {
      "text/html": [
       "<div>\n",
       "<style scoped>\n",
       "    .dataframe tbody tr th:only-of-type {\n",
       "        vertical-align: middle;\n",
       "    }\n",
       "\n",
       "    .dataframe tbody tr th {\n",
       "        vertical-align: top;\n",
       "    }\n",
       "\n",
       "    .dataframe thead th {\n",
       "        text-align: right;\n",
       "    }\n",
       "</style>\n",
       "<table border=\"1\" class=\"dataframe\">\n",
       "  <thead>\n",
       "    <tr style=\"text-align: right;\">\n",
       "      <th></th>\n",
       "      <th>customerID</th>\n",
       "      <th>gender</th>\n",
       "      <th>SeniorCitizen</th>\n",
       "      <th>Partner</th>\n",
       "      <th>Dependents</th>\n",
       "      <th>tenure</th>\n",
       "      <th>PhoneService</th>\n",
       "      <th>MultipleLines</th>\n",
       "      <th>InternetService</th>\n",
       "      <th>OnlineSecurity</th>\n",
       "      <th>...</th>\n",
       "      <th>DeviceProtection</th>\n",
       "      <th>TechSupport</th>\n",
       "      <th>StreamingTV</th>\n",
       "      <th>StreamingMovies</th>\n",
       "      <th>Contract</th>\n",
       "      <th>PaperlessBilling</th>\n",
       "      <th>PaymentMethod</th>\n",
       "      <th>MonthlyCharges</th>\n",
       "      <th>TotalCharges</th>\n",
       "      <th>Churn</th>\n",
       "    </tr>\n",
       "  </thead>\n",
       "  <tbody>\n",
       "    <tr>\n",
       "      <th>0</th>\n",
       "      <td>7590-VHVEG</td>\n",
       "      <td>Female</td>\n",
       "      <td>0</td>\n",
       "      <td>Yes</td>\n",
       "      <td>No</td>\n",
       "      <td>1</td>\n",
       "      <td>No</td>\n",
       "      <td>No phone service</td>\n",
       "      <td>DSL</td>\n",
       "      <td>No</td>\n",
       "      <td>...</td>\n",
       "      <td>No</td>\n",
       "      <td>No</td>\n",
       "      <td>No</td>\n",
       "      <td>No</td>\n",
       "      <td>Month-to-month</td>\n",
       "      <td>Yes</td>\n",
       "      <td>Electronic check</td>\n",
       "      <td>29.85</td>\n",
       "      <td>29.85</td>\n",
       "      <td>No</td>\n",
       "    </tr>\n",
       "    <tr>\n",
       "      <th>1</th>\n",
       "      <td>5575-GNVDE</td>\n",
       "      <td>Male</td>\n",
       "      <td>0</td>\n",
       "      <td>No</td>\n",
       "      <td>No</td>\n",
       "      <td>34</td>\n",
       "      <td>Yes</td>\n",
       "      <td>No</td>\n",
       "      <td>DSL</td>\n",
       "      <td>Yes</td>\n",
       "      <td>...</td>\n",
       "      <td>Yes</td>\n",
       "      <td>No</td>\n",
       "      <td>No</td>\n",
       "      <td>No</td>\n",
       "      <td>One year</td>\n",
       "      <td>No</td>\n",
       "      <td>Mailed check</td>\n",
       "      <td>56.95</td>\n",
       "      <td>1889.5</td>\n",
       "      <td>No</td>\n",
       "    </tr>\n",
       "    <tr>\n",
       "      <th>2</th>\n",
       "      <td>3668-QPYBK</td>\n",
       "      <td>Male</td>\n",
       "      <td>0</td>\n",
       "      <td>No</td>\n",
       "      <td>No</td>\n",
       "      <td>2</td>\n",
       "      <td>Yes</td>\n",
       "      <td>No</td>\n",
       "      <td>DSL</td>\n",
       "      <td>Yes</td>\n",
       "      <td>...</td>\n",
       "      <td>No</td>\n",
       "      <td>No</td>\n",
       "      <td>No</td>\n",
       "      <td>No</td>\n",
       "      <td>Month-to-month</td>\n",
       "      <td>Yes</td>\n",
       "      <td>Mailed check</td>\n",
       "      <td>53.85</td>\n",
       "      <td>108.15</td>\n",
       "      <td>Yes</td>\n",
       "    </tr>\n",
       "    <tr>\n",
       "      <th>3</th>\n",
       "      <td>7795-CFOCW</td>\n",
       "      <td>Male</td>\n",
       "      <td>0</td>\n",
       "      <td>No</td>\n",
       "      <td>No</td>\n",
       "      <td>45</td>\n",
       "      <td>No</td>\n",
       "      <td>No phone service</td>\n",
       "      <td>DSL</td>\n",
       "      <td>Yes</td>\n",
       "      <td>...</td>\n",
       "      <td>Yes</td>\n",
       "      <td>Yes</td>\n",
       "      <td>No</td>\n",
       "      <td>No</td>\n",
       "      <td>One year</td>\n",
       "      <td>No</td>\n",
       "      <td>Bank transfer (automatic)</td>\n",
       "      <td>42.30</td>\n",
       "      <td>1840.75</td>\n",
       "      <td>No</td>\n",
       "    </tr>\n",
       "    <tr>\n",
       "      <th>4</th>\n",
       "      <td>9237-HQITU</td>\n",
       "      <td>Female</td>\n",
       "      <td>0</td>\n",
       "      <td>No</td>\n",
       "      <td>No</td>\n",
       "      <td>2</td>\n",
       "      <td>Yes</td>\n",
       "      <td>No</td>\n",
       "      <td>Fiber optic</td>\n",
       "      <td>No</td>\n",
       "      <td>...</td>\n",
       "      <td>No</td>\n",
       "      <td>No</td>\n",
       "      <td>No</td>\n",
       "      <td>No</td>\n",
       "      <td>Month-to-month</td>\n",
       "      <td>Yes</td>\n",
       "      <td>Electronic check</td>\n",
       "      <td>70.70</td>\n",
       "      <td>151.65</td>\n",
       "      <td>Yes</td>\n",
       "    </tr>\n",
       "  </tbody>\n",
       "</table>\n",
       "<p>5 rows × 21 columns</p>\n",
       "</div>"
      ],
      "text/plain": [
       "   customerID  gender  SeniorCitizen Partner Dependents  tenure PhoneService  \\\n",
       "0  7590-VHVEG  Female              0     Yes         No       1           No   \n",
       "1  5575-GNVDE    Male              0      No         No      34          Yes   \n",
       "2  3668-QPYBK    Male              0      No         No       2          Yes   \n",
       "3  7795-CFOCW    Male              0      No         No      45           No   \n",
       "4  9237-HQITU  Female              0      No         No       2          Yes   \n",
       "\n",
       "      MultipleLines InternetService OnlineSecurity  ... DeviceProtection  \\\n",
       "0  No phone service             DSL             No  ...               No   \n",
       "1                No             DSL            Yes  ...              Yes   \n",
       "2                No             DSL            Yes  ...               No   \n",
       "3  No phone service             DSL            Yes  ...              Yes   \n",
       "4                No     Fiber optic             No  ...               No   \n",
       "\n",
       "  TechSupport StreamingTV StreamingMovies        Contract PaperlessBilling  \\\n",
       "0          No          No              No  Month-to-month              Yes   \n",
       "1          No          No              No        One year               No   \n",
       "2          No          No              No  Month-to-month              Yes   \n",
       "3         Yes          No              No        One year               No   \n",
       "4          No          No              No  Month-to-month              Yes   \n",
       "\n",
       "               PaymentMethod MonthlyCharges  TotalCharges Churn  \n",
       "0           Electronic check          29.85         29.85    No  \n",
       "1               Mailed check          56.95        1889.5    No  \n",
       "2               Mailed check          53.85        108.15   Yes  \n",
       "3  Bank transfer (automatic)          42.30       1840.75    No  \n",
       "4           Electronic check          70.70        151.65   Yes  \n",
       "\n",
       "[5 rows x 21 columns]"
      ]
     },
     "execution_count": 2,
     "metadata": {},
     "output_type": "execute_result"
    }
   ],
   "source": [
    "# Read in the dataset from a public repository\n",
    "url = \"https://raw.githubusercontent.com/Natasa127/CSI4142-A3/refs/heads/main/Telco-Customer-Churn.csv\"\n",
    "telco_df = pd.read_csv(url)\n",
    "telco_df.head()"
   ]
  },
  {
   "cell_type": "code",
   "execution_count": 3,
   "id": "5e8df0ca-8318-4eef-b0f4-e0ff89910ae1",
   "metadata": {},
   "outputs": [
    {
     "name": "stdout",
     "output_type": "stream",
     "text": [
      "<class 'pandas.core.frame.DataFrame'>\n",
      "RangeIndex: 7043 entries, 0 to 7042\n",
      "Data columns (total 21 columns):\n",
      " #   Column            Non-Null Count  Dtype  \n",
      "---  ------            --------------  -----  \n",
      " 0   customerID        7043 non-null   object \n",
      " 1   gender            7043 non-null   object \n",
      " 2   SeniorCitizen     7043 non-null   int64  \n",
      " 3   Partner           7043 non-null   object \n",
      " 4   Dependents        7043 non-null   object \n",
      " 5   tenure            7043 non-null   int64  \n",
      " 6   PhoneService      7043 non-null   object \n",
      " 7   MultipleLines     7043 non-null   object \n",
      " 8   InternetService   7043 non-null   object \n",
      " 9   OnlineSecurity    7043 non-null   object \n",
      " 10  OnlineBackup      7043 non-null   object \n",
      " 11  DeviceProtection  7043 non-null   object \n",
      " 12  TechSupport       7043 non-null   object \n",
      " 13  StreamingTV       7043 non-null   object \n",
      " 14  StreamingMovies   7043 non-null   object \n",
      " 15  Contract          7043 non-null   object \n",
      " 16  PaperlessBilling  7043 non-null   object \n",
      " 17  PaymentMethod     7043 non-null   object \n",
      " 18  MonthlyCharges    7043 non-null   float64\n",
      " 19  TotalCharges      7043 non-null   object \n",
      " 20  Churn             7043 non-null   object \n",
      "dtypes: float64(1), int64(2), object(18)\n",
      "memory usage: 1.1+ MB\n"
     ]
    }
   ],
   "source": [
    "telco_df.info()"
   ]
  },
  {
   "cell_type": "code",
   "execution_count": 4,
   "id": "4b9eae4d-d16a-422f-a60c-2a183b6b767a",
   "metadata": {},
   "outputs": [
    {
     "data": {
      "text/plain": [
       "(7043, 21)"
      ]
     },
     "execution_count": 4,
     "metadata": {},
     "output_type": "execute_result"
    }
   ],
   "source": [
    "telco_df.shape"
   ]
  },
  {
   "cell_type": "markdown",
   "id": "3c80d788-22f1-44b9-8dd5-e2da0da5d5ed",
   "metadata": {},
   "source": [
    "## Classification Empirical Study"
   ]
  },
  {
   "cell_type": "markdown",
   "id": "f4188bd4-f024-4475-bfbd-c2e7c372a7e2",
   "metadata": {},
   "source": [
    "### (a) Cleaning the data\n",
    "\n",
    "In this section, we will use the validity checks from `Assignment 2` to determine if the data needs to be cleaned. If needed, an imputation method may be used to clean the data. Note that we will be presenting each of the ten validity checks, although they may be in a different order than in assignment 2. They will be clearly enumerated. Furthermore, in `Assignment 2`, we saved a copy of the invalid rows in our validity checks. In this assignment, we will first check the count of invalid rows; if there are none, we will omit the code that saves a copy, and displays invalid rows. If we find the error count to be non-zero, we will then clean it instead of just saving and displaying the rows.\n",
    "\n",
    "The professor indicated that it would be sufficient to include one example of each check."
   ]
  },
  {
   "cell_type": "markdown",
   "id": "227f8e62-55df-4555-947c-2ebc454e64e4",
   "metadata": {},
   "source": [
    "#### Validity Check 1: Exact Duplicates\n",
    "\n",
    "We will first check for exact duplicates in the dataset. This check verifies that there are no rows that are identical over all columns.\n",
    "\n",
    "**References:** <br>\n",
    "Exact Duplicates: https://uottawa.brightspace.com/d2l/le/content/490358/viewContent/6620388/View (Slide 27)"
   ]
  },
  {
   "cell_type": "code",
   "execution_count": 5,
   "id": "25ed5d14-02ad-491a-a605-d97d6febb325",
   "metadata": {},
   "outputs": [
    {
     "name": "stdout",
     "output_type": "stream",
     "text": [
      "Number of duplicate rows: 0\n",
      "\n"
     ]
    }
   ],
   "source": [
    "# Exact duplicates check\n",
    "\n",
    "# Apply the .duplicated method to the DataFrame to create a Series, with exact duplicates set to True\n",
    "duplicates = telco_df.duplicated()\n",
    "\n",
    "# Print the number of rows that are exact duplicates\n",
    "print(f\"Number of duplicate rows: {duplicates.sum()}\\n\")"
   ]
  },
  {
   "cell_type": "markdown",
   "id": "ac66c1b5-ebde-4ed8-89fa-c5dc601b8797",
   "metadata": {},
   "source": [
    "Since there are no exact duplicates, no cleaning is required."
   ]
  },
  {
   "cell_type": "markdown",
   "id": "340e131b-f649-411f-88a8-725cebcf96a0",
   "metadata": {},
   "source": [
    "#### Validity Check 2: Near Duplicate Errors\n",
    "\n",
    "In `Assignment 2`, our near duplicate error checker checked if a row differed only by a synonym in a designated attribute. However, when developing our dataset description, we used `.value_counts()` on each categorical attribute, and we noted that there are no synonyms that would cause this error. Thus, we will be using a different type of near duplicate check in this assignment. Instead, we will be checking if any customer's have the exact same information, differing only by their `customerID`.\n",
    "\n",
    "**References:** <br>\n",
    "Omit a Column: https://sparkbyexamples.com/pandas/pandas-select-all-columns-except-one-column-in-dataframe/#:~:text=Select%20All%20Except%20One%20Column%20Using%20drop()%20Method%20in,axis%3D1%20or%20columns%20param."
   ]
  },
  {
   "cell_type": "code",
   "execution_count": 6,
   "id": "dfc47ac9-7d50-4b07-8744-64959cd1c3fc",
   "metadata": {},
   "outputs": [
    {
     "name": "stdout",
     "output_type": "stream",
     "text": [
      "Number of near duplicate rows: 22\n",
      "\n"
     ]
    }
   ],
   "source": [
    "# Near duplicates check\n",
    "\n",
    "# Apply the .duplcated method to the DataFrame, excluding the customerID column, to create a Series, with exact duplicates of the remaining columns set to True\n",
    "no_customer_id_duplicates = telco_df.loc[:, telco_df.columns != \"customerID\"].duplicated()\n",
    "\n",
    "# Print the number of rows that are near duplicates\n",
    "print(f\"Number of near duplicate rows: {no_customer_id_duplicates.sum()}\\n\")"
   ]
  },
  {
   "cell_type": "markdown",
   "id": "5e8bfd40-f2eb-4517-80aa-a03b9db171fe",
   "metadata": {},
   "source": [
    "Since there are 22 near duplicate rows, let us further investigate the actual rows to determine how to handle them."
   ]
  },
  {
   "cell_type": "code",
   "execution_count": 7,
   "id": "06a13d40-6669-4c6d-98eb-95365e74b5ca",
   "metadata": {},
   "outputs": [
    {
     "name": "stdout",
     "output_type": "stream",
     "text": [
      "Examples of three near duplicate rows:\n"
     ]
    },
    {
     "data": {
      "text/html": [
       "<div>\n",
       "<style scoped>\n",
       "    .dataframe tbody tr th:only-of-type {\n",
       "        vertical-align: middle;\n",
       "    }\n",
       "\n",
       "    .dataframe tbody tr th {\n",
       "        vertical-align: top;\n",
       "    }\n",
       "\n",
       "    .dataframe thead th {\n",
       "        text-align: right;\n",
       "    }\n",
       "</style>\n",
       "<table border=\"1\" class=\"dataframe\">\n",
       "  <thead>\n",
       "    <tr style=\"text-align: right;\">\n",
       "      <th></th>\n",
       "      <th>customerID</th>\n",
       "      <th>gender</th>\n",
       "      <th>SeniorCitizen</th>\n",
       "      <th>Partner</th>\n",
       "      <th>Dependents</th>\n",
       "      <th>tenure</th>\n",
       "      <th>PhoneService</th>\n",
       "      <th>MultipleLines</th>\n",
       "      <th>InternetService</th>\n",
       "      <th>OnlineSecurity</th>\n",
       "      <th>...</th>\n",
       "      <th>DeviceProtection</th>\n",
       "      <th>TechSupport</th>\n",
       "      <th>StreamingTV</th>\n",
       "      <th>StreamingMovies</th>\n",
       "      <th>Contract</th>\n",
       "      <th>PaperlessBilling</th>\n",
       "      <th>PaymentMethod</th>\n",
       "      <th>MonthlyCharges</th>\n",
       "      <th>TotalCharges</th>\n",
       "      <th>Churn</th>\n",
       "    </tr>\n",
       "  </thead>\n",
       "  <tbody>\n",
       "    <tr>\n",
       "      <th>964</th>\n",
       "      <td>9117-SHLZX</td>\n",
       "      <td>Male</td>\n",
       "      <td>0</td>\n",
       "      <td>No</td>\n",
       "      <td>No</td>\n",
       "      <td>1</td>\n",
       "      <td>Yes</td>\n",
       "      <td>No</td>\n",
       "      <td>DSL</td>\n",
       "      <td>No</td>\n",
       "      <td>...</td>\n",
       "      <td>No</td>\n",
       "      <td>No</td>\n",
       "      <td>No</td>\n",
       "      <td>No</td>\n",
       "      <td>Month-to-month</td>\n",
       "      <td>Yes</td>\n",
       "      <td>Mailed check</td>\n",
       "      <td>45.70</td>\n",
       "      <td>45.7</td>\n",
       "      <td>Yes</td>\n",
       "    </tr>\n",
       "    <tr>\n",
       "      <th>1338</th>\n",
       "      <td>1934-SJVJK</td>\n",
       "      <td>Male</td>\n",
       "      <td>0</td>\n",
       "      <td>No</td>\n",
       "      <td>No</td>\n",
       "      <td>1</td>\n",
       "      <td>Yes</td>\n",
       "      <td>No</td>\n",
       "      <td>No</td>\n",
       "      <td>No internet service</td>\n",
       "      <td>...</td>\n",
       "      <td>No internet service</td>\n",
       "      <td>No internet service</td>\n",
       "      <td>No internet service</td>\n",
       "      <td>No internet service</td>\n",
       "      <td>Month-to-month</td>\n",
       "      <td>No</td>\n",
       "      <td>Mailed check</td>\n",
       "      <td>20.15</td>\n",
       "      <td>20.15</td>\n",
       "      <td>Yes</td>\n",
       "    </tr>\n",
       "    <tr>\n",
       "      <th>1491</th>\n",
       "      <td>8605-ITULD</td>\n",
       "      <td>Female</td>\n",
       "      <td>0</td>\n",
       "      <td>No</td>\n",
       "      <td>No</td>\n",
       "      <td>1</td>\n",
       "      <td>Yes</td>\n",
       "      <td>No</td>\n",
       "      <td>No</td>\n",
       "      <td>No internet service</td>\n",
       "      <td>...</td>\n",
       "      <td>No internet service</td>\n",
       "      <td>No internet service</td>\n",
       "      <td>No internet service</td>\n",
       "      <td>No internet service</td>\n",
       "      <td>Month-to-month</td>\n",
       "      <td>No</td>\n",
       "      <td>Mailed check</td>\n",
       "      <td>19.55</td>\n",
       "      <td>19.55</td>\n",
       "      <td>No</td>\n",
       "    </tr>\n",
       "  </tbody>\n",
       "</table>\n",
       "<p>3 rows × 21 columns</p>\n",
       "</div>"
      ],
      "text/plain": [
       "      customerID  gender  SeniorCitizen Partner Dependents  tenure  \\\n",
       "964   9117-SHLZX    Male              0      No         No       1   \n",
       "1338  1934-SJVJK    Male              0      No         No       1   \n",
       "1491  8605-ITULD  Female              0      No         No       1   \n",
       "\n",
       "     PhoneService MultipleLines InternetService       OnlineSecurity  ...  \\\n",
       "964           Yes            No             DSL                   No  ...   \n",
       "1338          Yes            No              No  No internet service  ...   \n",
       "1491          Yes            No              No  No internet service  ...   \n",
       "\n",
       "         DeviceProtection          TechSupport          StreamingTV  \\\n",
       "964                    No                   No                   No   \n",
       "1338  No internet service  No internet service  No internet service   \n",
       "1491  No internet service  No internet service  No internet service   \n",
       "\n",
       "          StreamingMovies        Contract PaperlessBilling PaymentMethod  \\\n",
       "964                    No  Month-to-month              Yes  Mailed check   \n",
       "1338  No internet service  Month-to-month               No  Mailed check   \n",
       "1491  No internet service  Month-to-month               No  Mailed check   \n",
       "\n",
       "     MonthlyCharges  TotalCharges Churn  \n",
       "964           45.70          45.7   Yes  \n",
       "1338          20.15         20.15   Yes  \n",
       "1491          19.55         19.55    No  \n",
       "\n",
       "[3 rows x 21 columns]"
      ]
     },
     "execution_count": 7,
     "metadata": {},
     "output_type": "execute_result"
    }
   ],
   "source": [
    "# Save the invalid rows\n",
    "invalid_exact_duplicate_df = telco_df.loc[no_customer_id_duplicates]\n",
    "\n",
    "# Display the first 3 rows that are near duplicates\n",
    "print(\"Examples of three near duplicate rows:\")\n",
    "invalid_exact_duplicate_df.head(3)"
   ]
  },
  {
   "cell_type": "markdown",
   "id": "dcb8b975-cfa7-42ab-81a4-42bdc2aa38cc",
   "metadata": {},
   "source": [
    "We believe that despite our efforts to alter our near duplicate checker to identify rows that vary only by `customerID`, these rows **should not be removed.** There are a few reasons for this:\n",
    "\n",
    "- There is no row that occurs more than 3 times; in essence, there is no row that occurs a completely unreasonable number of times (there is only one row that occurs three times, and the rest occur twice).\n",
    "- Given that there are 7043 customers, 22 customers having the same information is plausible. There are a couple reasons why.\n",
    "    - This is a relatively small portion of the overall sample.\n",
    "    - Unlike the example in the course slides of near duplicates, we do not have a column like `Name` that would be highly likely to be distinct. All of the columns are reasonably likely to overlap.\n",
    "        - There are not many options for each column. All of the categorical values only provide a few options, and in many cases the same value would occur across multiple columns (ex: `No internet service` would be shared across 6 columns, so it effectively reduces the number of columns that could be a differentiator). Even the numerical columns are not particularly surprising to overlap—since they represent the prices of services, and presumably `Telco` offers a discrete set of services, the minimal duplication is expected.\n",
    "    - We analyzed all 22 rows that are duplicates, and the values are values that are logically more likely to be repeated; for example, all the customers had a tenure of 1 month, have a month-to-month plan, no dependents, no partner, were (mostly) not seniors, did not have multiple lines, and most of them do not purchase the internet service. Even of those that did purchase the internet service, none of them had any of the packages creating an unlikely combination. These are all relatively common values, and the internet service specifically reduces the number of differentiating columns. Thus, these users with a common service can only be differentiated by demographic information, their payment methods, and their churn, and it is likely that in some cases this would overlap.\n",
    "        - As an illustrative example, if there were 15 people with a tenure of exactly 42 months, and had a very specific combination of internet packages, then it would be more likely they were duplicates.\n",
    "        - To analyze the values of near duplicates, change `invalid_exact_duplicate_df.head(3)` to `invalid_exact_duplicate_df.head(22)`. We have left only 3 examples for brevity.\n",
    "\n",
    "Thus, we have decided not to remove the rows."
   ]
  },
  {
   "cell_type": "markdown",
   "id": "d9bfb64f-e3ad-4ad0-a13c-57e5b54aa3a4",
   "metadata": {},
   "source": [
    "#### Validity Check 3: Format errors\n",
    "\n",
    "We will use the format check from `Assignment 2` to verify if the `customerID` is in the correct format. The only change necessary is to change the regex to verify that the `customerID` is in the format `1234-ABCDE`. None of the other features have a specific format to follow.\n",
    "\n",
    "**References:** <br>\n",
    "Regex Rules: https://www.geeksforgeeks.org/perl-regex-cheat-sheet/"
   ]
  },
  {
   "cell_type": "code",
   "execution_count": 8,
   "id": "a0fd466c-3f2f-4026-8184-1b6be93b3a5b",
   "metadata": {},
   "outputs": [
    {
     "name": "stdout",
     "output_type": "stream",
     "text": [
      "Number of rows where the customerID value has an invalid format: 0\n",
      "\n"
     ]
    }
   ],
   "source": [
    "# Format check\n",
    "\n",
    "# Attribute selection\n",
    "test_attribute = 'customerID'\n",
    "\n",
    "# We will fix the regex for the customerID format (1234-ABCDE)\n",
    "format_regex = r\"^\\d{4}-[A-Z]{5}$\"\n",
    "\n",
    "# Evaluates a single value against a given regex format\n",
    "def format_filter(value, format_regex):\n",
    "    return False if not isinstance(value, str) else bool(re.findall(format_regex, value))\n",
    "\n",
    "# Apply the function to the test attribute, setting invalid formats to True\n",
    "invalid_format = telco_df[test_attribute].apply(\n",
    "    lambda attribute: not format_filter(attribute, format_regex)\n",
    ")\n",
    "\n",
    "# Print the number of rows with invalid formatting on the chosen test attribute\n",
    "print(f\"Number of rows where the {test_attribute} value has an invalid format: {invalid_format.sum()}\\n\")"
   ]
  },
  {
   "cell_type": "markdown",
   "id": "53cdf29b-4c88-4374-95a7-206b39ee283b",
   "metadata": {},
   "source": [
    "Since there are no rows with an invalid `customerID` format, no cleaning is required."
   ]
  },
  {
   "cell_type": "markdown",
   "id": "74ea794f-c2b3-4b15-b37b-00a6aeb8f281",
   "metadata": {},
   "source": [
    "#### Validity Check 4: Uniqueness errors\n",
    "\n",
    "We will use the uniqueness check from `Assignment 2` to validate that the `customerID` values are unique. Minimal changes are necessary to the code. We only need to provide the `customerID` feature name, and change the `sales` DataFrame to `telco_df`. None of the other features are intended to be unique."
   ]
  },
  {
   "cell_type": "code",
   "execution_count": 9,
   "id": "586a9d12-34f1-4c5c-b748-f76c7e865f6b",
   "metadata": {},
   "outputs": [
    {
     "name": "stdout",
     "output_type": "stream",
     "text": [
      "Number of rows where the customerID value is not unique: 0\n",
      "\n"
     ]
    }
   ],
   "source": [
    "# Uniqueness check\n",
    "\n",
    "# Attribute selection\n",
    "test_attributes = \"customerID\"\n",
    "\n",
    "# Store a series of the counts of each value in the chosen column\n",
    "attribute_series_counts = telco_df[test_attribute].value_counts()\n",
    "\n",
    "# Evaluates a single value, checking if it is unique in the chosen column\n",
    "def uniqueness_filter(value, counts):\n",
    "    if pd.isna(value):\n",
    "        return False\n",
    "    if counts[value] == 1:\n",
    "        return True\n",
    "    return False\n",
    "\n",
    "# Apply the function to the test attribute, setting rows with non-unique values in the designated column to True\n",
    "invalid_uniqueness = telco_df[test_attribute].apply(\n",
    "    lambda attribute: not uniqueness_filter(attribute, attribute_series_counts)\n",
    ")\n",
    "\n",
    "# Print the number of rows with a value that is not unique in the chosen column\n",
    "print(f\"Number of rows where the {test_attribute} value is not unique: {invalid_uniqueness.sum()}\\n\")"
   ]
  },
  {
   "cell_type": "markdown",
   "id": "c92fb006-d33f-476f-8246-b5727cb54380",
   "metadata": {},
   "source": [
    "Since every `customerID` is unique, no cleaning is required."
   ]
  },
  {
   "cell_type": "markdown",
   "id": "16f0ced1-85e5-4a51-a96d-c07702b33ba6",
   "metadata": {},
   "source": [
    "#### Validity Check 5: Presence check\n",
    "\n",
    "We will use the presence check from `Assignment 2` to validate that there is no missing information in any of the columns. Minimal changes are necessary to the code. Instead of taking a parameter input, we will simply iterate over all of the columns to determine if any of them are missing values. We also added a check for strings of whitespace."
   ]
  },
  {
   "cell_type": "code",
   "execution_count": 10,
   "id": "97d67267-7e9f-4ae2-a714-3ba891808e3a",
   "metadata": {},
   "outputs": [
    {
     "name": "stdout",
     "output_type": "stream",
     "text": [
      "Number of rows where the customerID value is missing: 0\n",
      "Number of rows where the gender value is missing: 0\n",
      "Number of rows where the SeniorCitizen value is missing: 0\n",
      "Number of rows where the Partner value is missing: 0\n",
      "Number of rows where the Dependents value is missing: 0\n",
      "Number of rows where the tenure value is missing: 0\n",
      "Number of rows where the PhoneService value is missing: 0\n",
      "Number of rows where the MultipleLines value is missing: 0\n",
      "Number of rows where the InternetService value is missing: 0\n",
      "Number of rows where the OnlineSecurity value is missing: 0\n",
      "Number of rows where the OnlineBackup value is missing: 0\n",
      "Number of rows where the DeviceProtection value is missing: 0\n",
      "Number of rows where the TechSupport value is missing: 0\n",
      "Number of rows where the StreamingTV value is missing: 0\n",
      "Number of rows where the StreamingMovies value is missing: 0\n",
      "Number of rows where the Contract value is missing: 0\n",
      "Number of rows where the PaperlessBilling value is missing: 0\n",
      "Number of rows where the PaymentMethod value is missing: 0\n",
      "Number of rows where the MonthlyCharges value is missing: 0\n",
      "Number of rows where the TotalCharges value is missing: 11\n",
      "Number of rows where the Churn value is missing: 0\n"
     ]
    }
   ],
   "source": [
    "# Presence check\n",
    "\n",
    "# Iterate over each column and perform the presence check on each\n",
    "for column in telco_df:\n",
    "    # Apply pd.isna() to the test attribute, or check if it is a string of whitespace, setting rows with missing values in the designated column to True\n",
    "    invalid_presence = telco_df[column].apply(lambda attribute: (pd.isna(attribute) or (isinstance(attribute, str) and attribute.strip() == \"\")))\n",
    "\n",
    "    # Print the number of rows with a missing value in the chosen test attribute\n",
    "    print(f\"Number of rows where the {column} value is missing: {invalid_presence.sum()}\")"
   ]
  },
  {
   "cell_type": "markdown",
   "id": "9d6c26d1-c17c-47f0-81b9-227516df9be9",
   "metadata": {},
   "source": [
    "There are only missing values in the `TotalCharges` feature. We will investigate this further, first by printing out some examples of invalid rows."
   ]
  },
  {
   "cell_type": "code",
   "execution_count": 15,
   "id": "317325cc-5bcc-4521-bafb-ef4895f3d6fd",
   "metadata": {},
   "outputs": [
    {
     "name": "stdout",
     "output_type": "stream",
     "text": [
      "Examples of three rows where the TotalCharges value is missing:\n"
     ]
    },
    {
     "data": {
      "text/html": [
       "<div>\n",
       "<style scoped>\n",
       "    .dataframe tbody tr th:only-of-type {\n",
       "        vertical-align: middle;\n",
       "    }\n",
       "\n",
       "    .dataframe tbody tr th {\n",
       "        vertical-align: top;\n",
       "    }\n",
       "\n",
       "    .dataframe thead th {\n",
       "        text-align: right;\n",
       "    }\n",
       "</style>\n",
       "<table border=\"1\" class=\"dataframe\">\n",
       "  <thead>\n",
       "    <tr style=\"text-align: right;\">\n",
       "      <th></th>\n",
       "      <th>customerID</th>\n",
       "      <th>gender</th>\n",
       "      <th>SeniorCitizen</th>\n",
       "      <th>Partner</th>\n",
       "      <th>Dependents</th>\n",
       "      <th>tenure</th>\n",
       "      <th>PhoneService</th>\n",
       "      <th>MultipleLines</th>\n",
       "      <th>InternetService</th>\n",
       "      <th>OnlineSecurity</th>\n",
       "      <th>...</th>\n",
       "      <th>DeviceProtection</th>\n",
       "      <th>TechSupport</th>\n",
       "      <th>StreamingTV</th>\n",
       "      <th>StreamingMovies</th>\n",
       "      <th>Contract</th>\n",
       "      <th>PaperlessBilling</th>\n",
       "      <th>PaymentMethod</th>\n",
       "      <th>MonthlyCharges</th>\n",
       "      <th>TotalCharges</th>\n",
       "      <th>Churn</th>\n",
       "    </tr>\n",
       "  </thead>\n",
       "  <tbody>\n",
       "    <tr>\n",
       "      <th>488</th>\n",
       "      <td>4472-LVYGI</td>\n",
       "      <td>Female</td>\n",
       "      <td>0</td>\n",
       "      <td>Yes</td>\n",
       "      <td>Yes</td>\n",
       "      <td>0</td>\n",
       "      <td>No</td>\n",
       "      <td>No phone service</td>\n",
       "      <td>DSL</td>\n",
       "      <td>Yes</td>\n",
       "      <td>...</td>\n",
       "      <td>Yes</td>\n",
       "      <td>Yes</td>\n",
       "      <td>Yes</td>\n",
       "      <td>No</td>\n",
       "      <td>Two year</td>\n",
       "      <td>Yes</td>\n",
       "      <td>Bank transfer (automatic)</td>\n",
       "      <td>52.55</td>\n",
       "      <td></td>\n",
       "      <td>No</td>\n",
       "    </tr>\n",
       "    <tr>\n",
       "      <th>753</th>\n",
       "      <td>3115-CZMZD</td>\n",
       "      <td>Male</td>\n",
       "      <td>0</td>\n",
       "      <td>No</td>\n",
       "      <td>Yes</td>\n",
       "      <td>0</td>\n",
       "      <td>Yes</td>\n",
       "      <td>No</td>\n",
       "      <td>No</td>\n",
       "      <td>No internet service</td>\n",
       "      <td>...</td>\n",
       "      <td>No internet service</td>\n",
       "      <td>No internet service</td>\n",
       "      <td>No internet service</td>\n",
       "      <td>No internet service</td>\n",
       "      <td>Two year</td>\n",
       "      <td>No</td>\n",
       "      <td>Mailed check</td>\n",
       "      <td>20.25</td>\n",
       "      <td></td>\n",
       "      <td>No</td>\n",
       "    </tr>\n",
       "    <tr>\n",
       "      <th>936</th>\n",
       "      <td>5709-LVOEQ</td>\n",
       "      <td>Female</td>\n",
       "      <td>0</td>\n",
       "      <td>Yes</td>\n",
       "      <td>Yes</td>\n",
       "      <td>0</td>\n",
       "      <td>Yes</td>\n",
       "      <td>No</td>\n",
       "      <td>DSL</td>\n",
       "      <td>Yes</td>\n",
       "      <td>...</td>\n",
       "      <td>Yes</td>\n",
       "      <td>No</td>\n",
       "      <td>Yes</td>\n",
       "      <td>Yes</td>\n",
       "      <td>Two year</td>\n",
       "      <td>No</td>\n",
       "      <td>Mailed check</td>\n",
       "      <td>80.85</td>\n",
       "      <td></td>\n",
       "      <td>No</td>\n",
       "    </tr>\n",
       "  </tbody>\n",
       "</table>\n",
       "<p>3 rows × 21 columns</p>\n",
       "</div>"
      ],
      "text/plain": [
       "     customerID  gender  SeniorCitizen Partner Dependents  tenure  \\\n",
       "488  4472-LVYGI  Female              0     Yes        Yes       0   \n",
       "753  3115-CZMZD    Male              0      No        Yes       0   \n",
       "936  5709-LVOEQ  Female              0     Yes        Yes       0   \n",
       "\n",
       "    PhoneService     MultipleLines InternetService       OnlineSecurity  ...  \\\n",
       "488           No  No phone service             DSL                  Yes  ...   \n",
       "753          Yes                No              No  No internet service  ...   \n",
       "936          Yes                No             DSL                  Yes  ...   \n",
       "\n",
       "        DeviceProtection          TechSupport          StreamingTV  \\\n",
       "488                  Yes                  Yes                  Yes   \n",
       "753  No internet service  No internet service  No internet service   \n",
       "936                  Yes                   No                  Yes   \n",
       "\n",
       "         StreamingMovies  Contract PaperlessBilling  \\\n",
       "488                   No  Two year              Yes   \n",
       "753  No internet service  Two year               No   \n",
       "936                  Yes  Two year               No   \n",
       "\n",
       "                 PaymentMethod MonthlyCharges  TotalCharges Churn  \n",
       "488  Bank transfer (automatic)          52.55                  No  \n",
       "753               Mailed check          20.25                  No  \n",
       "936               Mailed check          80.85                  No  \n",
       "\n",
       "[3 rows x 21 columns]"
      ]
     },
     "execution_count": 15,
     "metadata": {},
     "output_type": "execute_result"
    }
   ],
   "source": [
    "# Extract the rows with a missing TotalCharges\n",
    "invalid_presence = telco_df[\"TotalCharges\"].apply(lambda attribute: (pd.isna(attribute) or (isinstance(attribute, str) and attribute.strip() == \"\")))\n",
    "\n",
    "# Save the invalid rows\n",
    "invalid_presence_df = telco_df.loc[invalid_presence]\n",
    "\n",
    "# Display the first 3 rows with a missing value\n",
    "print(f\"Examples of three rows where the TotalCharges value is missing:\")\n",
    "invalid_presence_df.head(3)"
   ]
  },
  {
   "cell_type": "markdown",
   "id": "097126f1-c0a6-4ed7-9f81-364356dd2b9c",
   "metadata": {},
   "source": [
    "Note that all of the rows that are missing a `TotalCharges` value have a `tenure` of 0. This makes sense; since this is the customer's first month, they have not been charged yet."
   ]
  },
  {
   "cell_type": "code",
   "execution_count": 16,
   "id": "a46a1d52-26a2-4b19-94e8-0d97f884f141",
   "metadata": {},
   "outputs": [
    {
     "data": {
      "text/plain": [
       "np.int64(11)"
      ]
     },
     "execution_count": 16,
     "metadata": {},
     "output_type": "execute_result"
    }
   ],
   "source": [
    "telco_df[\"tenure\"].value_counts()[0]"
   ]
  },
  {
   "cell_type": "markdown",
   "id": "c7c95417-09d6-4a93-9421-e9664e372c56",
   "metadata": {},
   "source": [
    "There are 11 customers with a `tenure` of zero, corresponding to the number of customers with a missing `TotalCharges` value. Thus, this must be the reason. Let us replace the missing values with a value of 0, as from a logical standpoint, these customers have been charged $0 so far. We will make this change in a copy of the dataset called `cleaned_telco_df`. Any subsequent cleaning will be done using this dataset."
   ]
  },
  {
   "cell_type": "code",
   "execution_count": 17,
   "id": "55695865-cc6f-47c5-a34e-5990c6bf77a3",
   "metadata": {},
   "outputs": [
    {
     "name": "stdout",
     "output_type": "stream",
     "text": [
      "Number of rows where the TotalCharges value is missing: 0\n"
     ]
    }
   ],
   "source": [
    "cleaned_telco_df = telco_df.copy()\n",
    "cleaned_telco_df.loc[cleaned_telco_df[\"tenure\"] == 0, \"TotalCharges\"] = 0\n",
    "\n",
    "# Extract the rows with a missing TotalCharges\n",
    "invalid_presence = cleaned_telco_df[\"TotalCharges\"].apply(lambda attribute: (pd.isna(attribute) or (isinstance(attribute, str) and attribute.strip() == \"\")))\n",
    "\n",
    "# Verify that there are no longer missing values\n",
    "print(f\"Number of rows where the TotalCharges value is missing: {invalid_presence.sum()}\")"
   ]
  },
  {
   "cell_type": "markdown",
   "id": "9b9fe04d-d660-4756-863c-1649b6705a69",
   "metadata": {},
   "source": [
    "Now, we have solved the presence error problem by imputing the value of 0 in `cleaned_telco_df`, which is done since the missing values correspond to customers who have not been charged yet."
   ]
  },
  {
   "cell_type": "markdown",
   "id": "55254c3f-74c5-41ad-bcc1-a71be7950f30",
   "metadata": {},
   "source": [
    "## Conclusion"
   ]
  },
  {
   "cell_type": "markdown",
   "id": "9a145387-7604-4b0e-b615-f1175bb3ecad",
   "metadata": {},
   "source": [
    "## References"
   ]
  },
  {
   "cell_type": "code",
   "execution_count": null,
   "id": "3824b8e5-4fb1-432d-89d7-584690e9834a",
   "metadata": {},
   "outputs": [],
   "source": []
  }
 ],
 "metadata": {
  "kernelspec": {
   "display_name": "Python 3 (ipykernel)",
   "language": "python",
   "name": "python3"
  },
  "language_info": {
   "codemirror_mode": {
    "name": "ipython",
    "version": 3
   },
   "file_extension": ".py",
   "mimetype": "text/x-python",
   "name": "python",
   "nbconvert_exporter": "python",
   "pygments_lexer": "ipython3",
   "version": "3.12.2"
  }
 },
 "nbformat": 4,
 "nbformat_minor": 5
}
