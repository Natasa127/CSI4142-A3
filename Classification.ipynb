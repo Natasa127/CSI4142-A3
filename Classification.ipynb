{
 "cells": [
  {
   "cell_type": "markdown",
   "id": "f047b185-2ea4-459b-bfd8-2e7d72908b77",
   "metadata": {},
   "source": [
    "# Assignment 3: Predictive analysis - Part 2: Classification\n",
    "## Group 105\n",
    "- Natasa Bolic (300241734)\n",
    "- Brent Palmer (300193610)\n",
    "## Imports"
   ]
  },
  {
   "cell_type": "code",
   "execution_count": 1,
   "id": "04e04694-dad3-47ba-9b89-ac3651685853",
   "metadata": {},
   "outputs": [],
   "source": [
    "# imports\n",
    "import pandas as pd"
   ]
  },
  {
   "cell_type": "markdown",
   "id": "9e20add1-39a5-403a-8a8d-44f8e9d3e89e",
   "metadata": {},
   "source": [
    "## Introduction"
   ]
  },
  {
   "cell_type": "markdown",
   "id": "766e7819-f3b8-4a73-a131-b34bc4fecc9c",
   "metadata": {},
   "source": [
    "## Dataset Description"
   ]
  },
  {
   "cell_type": "markdown",
   "id": "06297945-3380-4ac8-8556-7951b556c887",
   "metadata": {},
   "source": [
    "**Url:** https://www.kaggle.com/datasets/blastchar/telco-customer-churn <br>\n",
    "**Name:** Telco Customer Churn <br>\n",
    "**Author:**  <br>\n",
    "**Purpose:** <br>\n",
    "**Shape:** There are X rows and Y columns. (X, Y)<br>\n",
    "**Features:** \n",
    "- `` ():\n",
    "- `` ():\n",
    "- `` ():\n",
    "- `` ():\n",
    "- `` ():\n",
    "- `` ():\n",
    "- `` ():\n",
    "- `` ():\n",
    "- `` ():\n",
    "- `` ():\n",
    "- `` ():\n",
    "- `` ():\n",
    "- `` ():\n",
    "- `` ():\n",
    "- `` ():\n",
    "- `` ():\n",
    "- `` ():\n",
    "- `` ():\n",
    "- `` ():\n",
    "- `` ():\n",
    "- `` ():"
   ]
  },
  {
   "cell_type": "markdown",
   "id": "e5c49324-e71d-42fb-8b5c-c8b1c9f465cd",
   "metadata": {},
   "source": [
    "## Loading Dataset and Basic Exploration"
   ]
  },
  {
   "cell_type": "code",
   "execution_count": null,
   "id": "bdf2c256-766c-4972-9afc-e904fa36a76c",
   "metadata": {},
   "outputs": [],
   "source": [
    "# Read in the dataset from a public repository\n",
    "url = \"https://raw.githubusercontent.com/Natasa127/CSI4142-A2/main/dirty_cafe_sales.csv\"\n",
    "sales = pd.read_csv(url)\n",
    "sales.head()"
   ]
  },
  {
   "cell_type": "markdown",
   "id": "3c80d788-22f1-44b9-8dd5-e2da0da5d5ed",
   "metadata": {},
   "source": [
    "## Classification Empirical Study"
   ]
  },
  {
   "cell_type": "markdown",
   "id": "55254c3f-74c5-41ad-bcc1-a71be7950f30",
   "metadata": {},
   "source": [
    "## Conclusion"
   ]
  },
  {
   "cell_type": "markdown",
   "id": "9a145387-7604-4b0e-b615-f1175bb3ecad",
   "metadata": {},
   "source": [
    "## References"
   ]
  },
  {
   "cell_type": "code",
   "execution_count": null,
   "id": "3824b8e5-4fb1-432d-89d7-584690e9834a",
   "metadata": {},
   "outputs": [],
   "source": []
  }
 ],
 "metadata": {
  "kernelspec": {
   "display_name": "Python 3 (ipykernel)",
   "language": "python",
   "name": "python3"
  },
  "language_info": {
   "codemirror_mode": {
    "name": "ipython",
    "version": 3
   },
   "file_extension": ".py",
   "mimetype": "text/x-python",
   "name": "python",
   "nbconvert_exporter": "python",
   "pygments_lexer": "ipython3",
   "version": "3.12.2"
  }
 },
 "nbformat": 4,
 "nbformat_minor": 5
}
